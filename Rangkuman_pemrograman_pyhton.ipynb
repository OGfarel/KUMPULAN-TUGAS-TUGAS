{
  "nbformat": 4,
  "nbformat_minor": 0,
  "metadata": {
    "colab": {
      "provenance": [],
      "authorship_tag": "ABX9TyP2qOO3O0eRFy4CtliZQFzF",
      "include_colab_link": true
    },
    "kernelspec": {
      "name": "python3",
      "display_name": "Python 3"
    },
    "language_info": {
      "name": "python"
    }
  },
  "cells": [
    {
      "cell_type": "markdown",
      "metadata": {
        "id": "view-in-github",
        "colab_type": "text"
      },
      "source": [
        "<a href=\"https://colab.research.google.com/github/OGfarel/KUMPULAN-TUGAS-TUGAS/blob/main/Rangkuman_pemrograman_pyhton.ipynb\" target=\"_parent\"><img src=\"https://colab.research.google.com/assets/colab-badge.svg\" alt=\"Open In Colab\"/></a>"
      ]
    },
    {
      "cell_type": "code",
      "execution_count": null,
      "metadata": {
        "id": "AKETvSiHIl3D"
      },
      "outputs": [],
      "source": []
    },
    {
      "cell_type": "markdown",
      "source": [
        "Rangkuman Bahasa Pyhton\n",
        "\n",
        "\n",
        "Operator Aritmatika Digunakan untuk operasi matematika dasar:\n",
        "\n",
        ": Penjumlahan\n",
        ": Pengurangan\n",
        ": Perkalian / : Pembagian % : Modulus (sisa bagi) ** : Perpangkatan // : Pembagian bulat Operator Perbandingan Membandingkan dua nilai dan menghasilkan True atau False:\n",
        "== : Sama dengan != : Tidak sama dengan\n",
        "\n",
        ": Lebih besar dari < : Lebih kecil dari = : Lebih besar atau sama dengan <= : Lebih kecil atau sama dengan Operator Logika Menggabungkan pernyataan logis:\n",
        "\n",
        "and : True jika kedua pernyataan benar or : True jika salah satu pernyataan benar not : Membalikkan hasil logika Operator Penugasan Memberikan nilai ke variabel:\n",
        "\n",
        "= : Penugasan += : Penjumlahan dan penugasan -= : Pengurangan dan penugasan *= : Perkalian dan penugasan /= : Pembagian dan penugasan **= : Perpangkatan dan penugasan //= : Pembagian bulat dan penugasan Operator Bitwise Operasi pada level bit:\n",
        "\n",
        "& : AND bitwise | : OR bitwise ^ : XOR bitwise ~ : NOT bitwise << : Shift kiri\n",
        "\n",
        ": Shift kanan Operator Keanggotaan Memeriksa apakah suatu nilai ada dalam kumpulan data:\n",
        "\n",
        "in : True jika nilai ada not in : True jika nilai tidak ada Operator Identitas Memeriksa apakah dua objek adalah objek yang sama di memori:\n",
        "\n",
        "is : True jika kedua variabel menunjuk objek yang sama is not : True jika tidak menunjuk objek yang sama Kesimpulan Operator di Python membantu memanipulasi variabel dan nilai dengan mudah. Memahami dan menguasai penggunaan operator akan sangat membantu dalam pemrograman sehari-hari.**"
      ],
      "metadata": {
        "id": "Km8GPaJcJbMe"
      }
    }
  ]
}