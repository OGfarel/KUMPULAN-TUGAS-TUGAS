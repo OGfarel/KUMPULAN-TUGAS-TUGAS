{
  "nbformat": 4,
  "nbformat_minor": 0,
  "metadata": {
    "colab": {
      "provenance": [],
      "authorship_tag": "ABX9TyPPeoazwrgd0nBk/xx8IhfY",
      "include_colab_link": true
    },
    "kernelspec": {
      "name": "python3",
      "display_name": "Python 3"
    },
    "language_info": {
      "name": "python"
    }
  },
  "cells": [
    {
      "cell_type": "markdown",
      "metadata": {
        "id": "view-in-github",
        "colab_type": "text"
      },
      "source": [
        "<a href=\"https://colab.research.google.com/github/OGfarel/KUMPULAN-TUGAS-TUGAS/blob/main/Untitled0.ipynb\" target=\"_parent\"><img src=\"https://colab.research.google.com/assets/colab-badge.svg\" alt=\"Open In Colab\"/></a>"
      ]
    },
    {
      "cell_type": "markdown",
      "source": [
        "TUGAS 1 pyhton"
      ],
      "metadata": {
        "id": "3fEl7EnFre_4"
      }
    },
    {
      "cell_type": "markdown",
      "source": [
        "SOAL\n",
        "\n",
        "1.apa fungsi dari variable pemerograman\n",
        "\n",
        "2.sebutkan dan jelaskan 3 tipe data dasar dalam phyton\n",
        "\n",
        "3.jelaskan fungsi operator +,-,x,/,%?\n",
        "\n",
        "4.apa perbedaan antara operator ==,=!?\n",
        "\n",
        "5.buatlah program sederhana untuk operator aritmatika operator perbandingan, operator logika di pyhton\n",
        "\n",
        "6.apa yang dimaksud logika pemerograman\n",
        "\n",
        "7.tuliskan algoritma dan pseucode untuk program yang meminta 2 angka dari pengguna\n",
        "\n",
        "8.buatlah program sederhana kalkulator menggunakan pyhton"
      ],
      "metadata": {
        "id": "MqjB_r6dtpev"
      }
    },
    {
      "cell_type": "markdown",
      "source": [
        "JAWABAN\n",
        "\n",
        "1.Variabel digunakan untuk menyimpan nilai atau data sementara selama program berjalan. Data ini bisa berupa angka, teks, boolean, dan jenis lainnya yang kemudian bisa diakses atau dimanipulasi\n",
        "\n",
        "2.Integer (int) = Tipe data int digunakan untuk menyimpan bilangan bulat, yaitu angka tanpa titik desimal. contoh=5.-3.100\n",
        "Float (float) = Tipe data float digunakan untuk menyimpan angka desimal atau bilangan real. Tipe data ini penting untuk representasi nilai yang membutuhkan ketepatan desimal, seperti hasil pengukuran atau perhitungan matematis yang memerlukan pecahan.\n",
        "String (str) = Tipe data str digunakan untuk menyimpan kumpulan karakter atau teks. String dapat terdiri dari huruf, angka, simbol, atau bahkan spasi.\n",
        "\n",
        "3. operator (+) = Digunakan untuk menambahkan dua nilai. Bisa digunakan untuk penjumlahan angka maupun penggabungan (concatenation) string.\n",
        "  operator (-) = Digunakan untuk mengurangi satu nilai dari nilai lain. Hanya bisa digunakan pada tipe data numerik  seperti int dan float\n",
        "  operator (x) = Digunakan untuk mengalikan dua nilai. Selain itu, bisa juga digunakan untuk mengulang string beberapa kali.\n",
        "  operator (/) = Digunakan untuk membagi dua nilai. Hasil dari operasi ini selalu berupa tipe data float\n",
        " operator (%) = Digunakan untuk mendapatkan sisa dari hasil pembagian dua bilangan. Ini sangat berguna dalam kasus di mana Anda perlu mengetahui apakah suatu bilangan habis dibagi bilangan lain atau tidak (misalnya untuk mengetahui bilangan ganjil/genap).\n",
        "\n",
        "4. fungsi operator ==  digunakan untuk membandingkan dua nilai dan memeriksa apakah nilai-nilai tersebut sama. Jika kedua nilai sama, hasilnya adalah True; jika tidak sama, hasilnya adalah False.\n",
        " fungsi operator =! digunakan untuk memeriksa apakah dua nilai tidak sama. Jika kedua nilai tidak sama, hasilnya adalah True; jika kedua nilai sama, hasilnya adalah False.\n",
        "\n",
        "5 Berikut adalah contoh program untuk operator aritmatika python\n",
        "# Operator Aritmatika\n",
        "print(\"\\n--- Operasi Aritmatika ---\")\n",
        "penjumlahan = angka1 + angka2\n",
        "pengurangan = angka1 - angka2\n",
        "perkalian = angka1 * angka2\n",
        "pembagian = angka1 / angka2 if angka2 != 0 else \"Tidak bisa dibagi dengan nol\"\n",
        "modulus = angka1 % angka2 if angka2 != 0 else \"Tidak bisa dilakukan modulus dengan nol\"\n",
        "\n",
        "print(f\"Penjumlahan: {angka1} + {angka2} = {penjumlahan}\")\n",
        "print(f\"Pengurangan: {angka1} - {angka2} = {pengurangan}\")\n",
        "print(f\"Perkalian: {angka1} * {angka2} = {perkalian}\")\n",
        "print(f\"Pembagian: {angka1} / {angka2} = {pembagian}\")\n",
        "print(f\"Modulus: {angka1} % {angka2} = {modulus}\")\n",
        "\n",
        "# Operator Perbandingan\n",
        "print(\"\\n--- Operasi Perbandingan ---\")\n",
        "print(f\"Apakah {angka1} sama dengan {angka2}? {angka1 == angka2}\")\n",
        "print(f\"Apakah {angka1} tidak sama dengan {angka2}? {angka1 != angka2}\")\n",
        "print(f\"Apakah {angka1} lebih besar dari {angka2}? {angka1 > angka2}\")\n",
        "print(f\"Apakah {angka1} lebih kecil dari {angka2}? {angka1 < angka2}\")\n",
        "print(f\"Apakah {angka1} lebih besar atau sama dengan {angka2}? {angka1 >= angka2}\")\n",
        "print(f\"Apakah {angka1} lebih kecil atau sama dengan {angka2}? {angka1 <= angka2}\")\n",
        "\n",
        "# Operator Logika\n",
        "print(\"\\n--- Operasi Logika ---\")\n",
        "angka1_positif = angka1 > 0\n",
        "angka2_positif = angka2 > 0\n",
        "\n",
        "print(f\"Apakah kedua angka positif? {angka1_positif and angka2_positif}\")  \n",
        "print(f\"Apakah salah satu angka positif? {angka1_positif or angka2_positif}\")  \n",
        "print(f\"Apakah angka pertama tidak positif? {not angka1_positif}\")\n",
        "\n",
        "6 Logika pemrograman adalah konsep yang digunakan untuk membuat keputusan, mengatur alur, dan mengendalikan jalannya program berdasarkan kondisi-kondisi tertentu.\n",
        "\n",
        "7 algoritma\n",
        "-Mulai\n",
        "-ampilkan pesan \"Masukkan angka pertama: \"\n",
        "-Baca angka pertama dari pengguna dan simpan dalam variabel angka1.\n",
        "-Tampilkan pesan \"Masukkan angka kedua: \"\n",
        "-Baca angka kedua dari pengguna dan simpan dalam variabel angka2.\n",
        "-Tampilkan pesan \"Anda telah memasukkan: \", angka1, \" dan \", angka2.\n",
        " -Selesai\n",
        " pseucode\n",
        "-Mulai: Menandakan awal dari program.\n",
        "-Tampilkan: Menampilkan pesan untuk meminta pengguna memasukkan angka.\n",
        "-Baca: Mengambil input dari pengguna dan menyimpannya ke dalam variabel angka1 dan angka2.\n",
        "-Tampilkan: Menampilkan angka yang telah dimasukkan oleh pengguna.\n",
        "-Selesai\n",
        "\n",
        "8  def kalkulator():\n",
        "    print(\"=== Kalkulator Sederhana ===\")\n",
        "    print(\"Pilih operasi:\")\n",
        "    print(\"1. Penjumlahan (+)\")\n",
        "    print(\"2. Pengurangan (-)\")\n",
        "    print(\"3. Perkalian (*)\")\n",
        "    print(\"4. Pembagian (/)\")\n",
        "\n",
        "    # Meminta input dari pengguna\n",
        "    pilihan = input(\"Masukkan pilihan (1/2/3/4): \")\n",
        "\n",
        "    # Memastikan pilihan yang valid\n",
        "    if pilihan in ['1', '2', '3', '4']:\n",
        "        angka1 = float(input(\"Masukkan angka pertama: \"))\n",
        "        angka2 = float(input(\"Masukkan angka kedua: \"))\n",
        "\n",
        "        if pilihan == '1':\n",
        "            hasil = angka1 + angka2\n",
        "            print(f\"Hasil {angka1} + {angka2} = {hasil}\")\n",
        "\n",
        "        elif pilihan == '2':\n",
        "            hasil = angka1 - angka2\n",
        "            print(f\"Hasil {angka1} - {angka2} = {hasil}\")\n",
        "\n",
        "        elif pilihan == '3':\n",
        "            hasil = angka1 * angka2\n",
        "            print(f\"Hasil {angka1} * {angka2} = {hasil}\")\n",
        "\n",
        "        elif pilihan == '4':\n",
        "            if angka2 != 0:\n",
        "                hasil = angka1 / angka2\n",
        "                print(f\"Hasil {angka1} / {angka2} = {hasil}\")\n",
        "            else:\n",
        "                print(\"Error: Pembagian dengan nol tidak diperbolehkan.\")\n",
        "    else:\n",
        "        print(\"Pilihan tidak valid. Silakan pilih 1, 2, 3, atau 4.\")\n",
        "\n",
        "\n"
      ],
      "metadata": {
        "id": "90xRVSosyGIy"
      }
    }
  ]
}