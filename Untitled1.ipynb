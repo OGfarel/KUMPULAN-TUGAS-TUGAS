{
  "nbformat": 4,
  "nbformat_minor": 0,
  "metadata": {
    "colab": {
      "provenance": [],
      "authorship_tag": "ABX9TyOsGdnwNdngZM8mNPmuKGT4",
      "include_colab_link": true
    },
    "kernelspec": {
      "name": "python3",
      "display_name": "Python 3"
    },
    "language_info": {
      "name": "python"
    }
  },
  "cells": [
    {
      "cell_type": "markdown",
      "metadata": {
        "id": "view-in-github",
        "colab_type": "text"
      },
      "source": [
        "<a href=\"https://colab.research.google.com/github/OGfarel/KUMPULAN-TUGAS-TUGAS/blob/main/Untitled1.ipynb\" target=\"_parent\"><img src=\"https://colab.research.google.com/assets/colab-badge.svg\" alt=\"Open In Colab\"/></a>"
      ]
    },
    {
      "cell_type": "markdown",
      "source": [
        "# **HOROSCOP**"
      ],
      "metadata": {
        "id": "LQ1T5OHE8QcT"
      }
    },
    {
      "cell_type": "code",
      "source": [],
      "metadata": {
        "id": "FDtOs4k8N3I7"
      },
      "execution_count": null,
      "outputs": []
    },
    {
      "cell_type": "code",
      "execution_count": null,
      "metadata": {
        "colab": {
          "base_uri": "https://localhost:8080/"
        },
        "id": "QkpREv9p8KKV",
        "outputId": "715bc9b1-71c8-43be-8d81-836d57647bea"
      },
      "outputs": [
        {
          "output_type": "stream",
          "name": "stdout",
          "text": [
            "masukan nama anda : damar\n",
            "masukan masa depan anda :12\n",
            "masukan tanggal lahir anda :12\n",
            "masukan bulan kelahiran anda :12\n",
            "damar dengan 12sesuai bulan = 12sangat cocok\n"
          ]
        }
      ],
      "source": [
        "nama_anda = input (\"masukan nama anda : \")\n",
        "pasangan = input (\"masukan masa depan anda :\")\n",
        "lahir = input (\"masukan tanggal lahir anda :\")\n",
        "lahir_pasangan = input (\"masukan bulan kelahiran anda :\")\n",
        "hasil = (nama_anda +\" dengan \" + pasangan +\"sesuai bulan = \" + lahir +\" sangat cocok\")\n",
        "\n",
        "print(hasil)\n"
      ]
    }
  ]
}