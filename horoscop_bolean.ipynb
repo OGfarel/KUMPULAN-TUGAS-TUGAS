{
  "nbformat": 4,
  "nbformat_minor": 0,
  "metadata": {
    "colab": {
      "provenance": [],
      "authorship_tag": "ABX9TyPJKviDgK1NL3utWP5h1fhP",
      "include_colab_link": true
    },
    "kernelspec": {
      "name": "python3",
      "display_name": "Python 3"
    },
    "language_info": {
      "name": "python"
    }
  },
  "cells": [
    {
      "cell_type": "markdown",
      "metadata": {
        "id": "view-in-github",
        "colab_type": "text"
      },
      "source": [
        "<a href=\"https://colab.research.google.com/github/OGfarel/KUMPULAN-TUGAS-TUGAS/blob/main/horoscop_bolean.ipynb\" target=\"_parent\"><img src=\"https://colab.research.google.com/assets/colab-badge.svg\" alt=\"Open In Colab\"/></a>"
      ]
    },
    {
      "cell_type": "code",
      "execution_count": null,
      "metadata": {
        "colab": {
          "base_uri": "https://localhost:8080/"
        },
        "id": "44XPM1juL78B",
        "outputId": "1cd69a98-79e4-49e3-8a5f-e2db96d009e7"
      },
      "outputs": [
        {
          "output_type": "stream",
          "name": "stdout",
          "text": [
            "predik tim bola anda pertama: indo\n",
            "predik tim bola anda kedua: malay\n",
            "apakah indo akan menang melawan malay = True\n"
          ]
        }
      ],
      "source": [
        "clubbola1 = input(\"predik tim bola anda pertama: \")\n",
        "clubbola2 = input(\"predik tim bola anda kedua: \")\n",
        "\n",
        "menang = bool(clubbola1) and bool(clubbola2)\n",
        "\n",
        "\n",
        "print(f\"apakah {clubbola1} akan menang melawan {clubbola2} = {menang}\")\n",
        "\n",
        "\n",
        "\n",
        "\n",
        "\n",
        "\n"
      ]
    }
  ]
}