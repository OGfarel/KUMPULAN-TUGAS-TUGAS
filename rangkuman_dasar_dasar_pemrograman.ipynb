{
  "nbformat": 4,
  "nbformat_minor": 0,
  "metadata": {
    "colab": {
      "provenance": [],
      "authorship_tag": "ABX9TyM4ouP1ga7tZ4Mc+7bbTzoM",
      "include_colab_link": true
    },
    "kernelspec": {
      "name": "python3",
      "display_name": "Python 3"
    },
    "language_info": {
      "name": "python"
    }
  },
  "cells": [
    {
      "cell_type": "markdown",
      "metadata": {
        "id": "view-in-github",
        "colab_type": "text"
      },
      "source": [
        "<a href=\"https://colab.research.google.com/github/OGfarel/KUMPULAN-TUGAS-TUGAS/blob/main/rangkuman_dasar_dasar_pemrograman.ipynb\" target=\"_parent\"><img src=\"https://colab.research.google.com/assets/colab-badge.svg\" alt=\"Open In Colab\"/></a>"
      ]
    },
    {
      "cell_type": "code",
      "execution_count": null,
      "metadata": {
        "id": "cINDADL-Kke6"
      },
      "outputs": [],
      "source": []
    },
    {
      "cell_type": "markdown",
      "source": [
        "**Rangkuman** **Dasar** **Dasar** **Pemrograman**\n",
        "\n",
        "Rangkuman Sederhana tentang Dasar-Dasar Pemrograman:\n",
        "\n",
        "1. Pemrograman adalah proses membuat instruksi untuk komputer menggunakan bahasa seperti Python, C++, dan Java untuk menyelesaikan masalah atau mengotomatisasi tugas.\n",
        "\n",
        "2. Variabel adalah tempat menyimpan data atau nilai, misalnya x = 5 dan nama = 'Andi'.\n",
        "\n",
        "3. Tipe Data adalah jenis data yang dapat disimpan dalam variabel, seperti:\n",
        "\n",
        "-Integer (contoh: 5)\n",
        "-Float (contoh: 3.14)\n",
        "-String (contoh: 'Halo')\n",
        "-Boolean (contoh: True/False)\n",
        "\n",
        "4. Operator digunakan untuk melakukan operasi pada variabel dan nilai, seperti:\n",
        "\n",
        "-Aritmatika: +, -, *, /\n",
        "-Perbandingan: ==, !=, >, <\n",
        "-Logika: and, or, not\n",
        "\n",
        "5.Struktur Kendali:\n",
        "\n",
        "-Pengkondisian (If-Else): Menentukan alur program berdasarkan kondisi tertentu. Contoh: if nilai >= 75: print('Lulus').\n",
        "-Perulangan (Loop): Mengulang blok kode, contohnya for dan while.\n",
        "\n",
        "6.Membuat Program Sederhana: Program menghitung luas lingkaran dengan input jari-jari dan formula luas = pi * r * r.\n",
        "\n",
        "7.Logika Pemrograman adalah langkah-langkah sistematis untuk menyelesaikan masalah dan penting untuk membangun program yang efektif.\n",
        "\n",
        "8. Struktur Algoritma Dasar adalah urutan langkah untuk menyelesaikan masalah, seperti memasukkan angka, melakukan operasi, dan mencetak hasil."
      ],
      "metadata": {
        "id": "LIneGQqfLjwH"
      }
    }
  ]
}